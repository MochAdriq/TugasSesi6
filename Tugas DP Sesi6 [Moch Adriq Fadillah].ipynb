{
 "cells": [
  {
   "cell_type": "markdown",
   "id": "132f4aa1",
   "metadata": {},
   "source": [
    "# Tugas PERCABANGAN"
   ]
  },
  {
   "cell_type": "markdown",
   "id": "0ac9c0ac",
   "metadata": {},
   "source": [
    "1. Sebuah wahana bermain 'Disney Island' akan memberikan tarif sesuai dengan tinggi dan umur anak dengan ketentuan sebagai berikut:\n",
    "\n",
    "<ul>\n",
    "    <li>Umur kurang dari 2 tahun: Tampilkan 'Dilarang masuk'</li>\n",
    "    <li>Umur kurang dari 4 tahun: Rp 30.000. Jika tinggi anak umur 2-3 tahun melebihi 70 cm maka tarif akan bertambah 10.000\n",
    "</li>\n",
    "    <li>Umur kurang dari 7 tahun: Rp 40.000. Jika tinggi anak umur 4-6 tahun melebih 120 cm maka tarif akan bertambah 15.000</li>\n",
    "    <li>Umur kurang dari 10 tahun: Rp 50.000. Jika tinggi anak umur 8-9 tahun melebih 150 cm maka tarif akan bertambah 20.000</li>\n",
    "    <li>Umur 10 tahun keatas: Rp 80.000</li>\n",
    "</ul>\n",
    "\n",
    "Buatlah program untuk menampilkan tarif harga sesuai umur dan tinggi seorang anak!"
   ]
  },
  {
   "cell_type": "code",
   "execution_count": 34,
   "id": "dea7ac60",
   "metadata": {},
   "outputs": [
    {
     "name": "stdout",
     "output_type": "stream",
     "text": [
      "Masukan umur anak : (tahun)1\n",
      "\n",
      "Dilarang masuk!!!!!!!\n"
     ]
    }
   ],
   "source": [
    "umur = int(input(\"Masukan umur anak : (tahun)\"))\n",
    "harga = 0\n",
    "\n",
    "if(umur < 2):\n",
    "    print(\"\\nDilarang masuk!!!!!!!\")\n",
    "\n",
    "elif(umur < 4):\n",
    "    harga += 30_000\n",
    "    tinggi = int(input(\"Masukan tinggi anak : \"))\n",
    "    if(tinggi >70):\n",
    "        harga += 10_000\n",
    "        \n",
    "elif(umur < 7):\n",
    "    harga += 40_000\n",
    "    tinggi = int(input(\"Masukan tinggi anak : \"))\n",
    "    if(tinggi >120):\n",
    "        harga += 15_000\n",
    "        \n",
    "elif(umur < 10):\n",
    "    harga += 50_000\n",
    "    tinggi = int(input(\"Masukan tinggi anak : \"))\n",
    "    if(tinggi >150):\n",
    "        harga += 20_000\n",
    "else:\n",
    "    harga += 80_000\n",
    "if(umur>= 2):\n",
    "    print(f\"\\nHarga untuk anak dengan umur {umur} tahun dengan tinggi {tinggi} cm adalah {harga} rupiah\")"
   ]
  },
  {
   "cell_type": "markdown",
   "id": "0dfa0211",
   "metadata": {},
   "source": [
    "2. Terdapat sebuah jurnal yang menuliskan teorinya bahwa olahraga dapat membakar kalori yang terkandung dalam tubuh manusia. Hal tersebut berbanding lurus dengan lama waktu yang dilakukan. Berikut ini adalah beberapa teori tersebut:\n",
    "\n",
    "<ul>\n",
    "    <li>Olahraga lari membakar 60 kalori setiap 5 menit</li>\n",
    "    <li>Olahraga push-up membakar 200 kalori setiap 30 menit</li>\n",
    "    <li>Olahraga plank membakar 5 kalori selama 1 menit</li>\n",
    "</ul>\n",
    "\n",
    "Buatlah program berdasarkan uraian tersebut untuk menghitung berapa jumlah kalori yang terbakar setelah melakukan aktivitas olahraga tersebut dengan ketentuan setiap orang boleh melakukan aktivitasnya lebih dari 1 (satu)."
   ]
  },
  {
   "cell_type": "code",
   "execution_count": 31,
   "id": "fdafaa5d",
   "metadata": {},
   "outputs": [
    {
     "name": "stdout",
     "output_type": "stream",
     "text": [
      "Apakah kamu berolahraga lari selama 5 menit : jawab y/n : 1\n",
      "Apakah kamu berolahraga push-up selama 30 menit : jawab y/n : 2\n",
      "Apakah kamu berolahraga plank selama 1 menit : jawab y/n : 3\n",
      "\n",
      "Kalori yang terbakar adalah 0 kalori\n"
     ]
    }
   ],
   "source": [
    "kalori = 0\n",
    "\n",
    "lari = input(\"Apakah kamu berolahraga lari selama 5 menit : jawab y/n : \") == 'y'\n",
    "if(lari):\n",
    "    kalori += 60\n",
    "    \n",
    "pushUp = input(\"Apakah kamu berolahraga push-up selama 30 menit : jawab y/n : \") == 'y'\n",
    "if(pushUp):\n",
    "    kalori += 200\n",
    "    \n",
    "plank = input(\"Apakah kamu berolahraga plank selama 1 menit : jawab y/n : \") == 'y'\n",
    "if(plank):\n",
    "    kalori += 5\n",
    "    \n",
    "print(f\"\\nKalori yang terbakar adalah {kalori} kalori\")"
   ]
  }
 ],
 "metadata": {
  "kernelspec": {
   "display_name": "Python 3 (ipykernel)",
   "language": "python",
   "name": "python3"
  },
  "language_info": {
   "codemirror_mode": {
    "name": "ipython",
    "version": 3
   },
   "file_extension": ".py",
   "mimetype": "text/x-python",
   "name": "python",
   "nbconvert_exporter": "python",
   "pygments_lexer": "ipython3",
   "version": "3.9.12"
  }
 },
 "nbformat": 4,
 "nbformat_minor": 5
}
